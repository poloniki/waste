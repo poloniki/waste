{
 "cells": [
  {
   "cell_type": "code",
   "execution_count": 7,
   "metadata": {},
   "outputs": [
    {
     "name": "stdout",
     "output_type": "stream",
     "text": [
      "loading Roboflow workspace...\n",
      "loading Roboflow project...\n"
     ]
    },
    {
     "name": "stderr",
     "output_type": "stream",
     "text": [
      "Downloading Dataset Version Zip in /home/poloniki/.data/waste to yolov8-obb:: 100%|██████████| 926960/926960 [00:30<00:00, 30199.72it/s]"
     ]
    },
    {
     "name": "stdout",
     "output_type": "stream",
     "text": [
      "\n"
     ]
    },
    {
     "name": "stderr",
     "output_type": "stream",
     "text": [
      "\n",
      "Extracting Dataset Version Zip to /home/poloniki/.data/waste in yolov8-obb:: 100%|██████████| 7176/7176 [00:02<00:00, 2507.61it/s]\n"
     ]
    }
   ],
   "source": [
    "import logging\n",
    "\n",
    "from roboflow import Roboflow\n",
    "\n",
    "from waste.params import *\n",
    "\n",
    "\n",
    "rf = Roboflow(api_key=\"NtHDWWC0JhDMlxNNhpDb\")\n",
    "project = rf.workspace(\"tom-rowland-03ams\").project(\"taco-wikc7\")\n",
    "version = project.version(3)\n",
    "dataset = version.download(\"yolov8-obb\", location=LOCAL_DATA_PATH)\n"
   ]
  },
  {
   "cell_type": "code",
   "execution_count": 6,
   "metadata": {},
   "outputs": [
    {
     "name": "stdout",
     "output_type": "stream",
     "text": [
      "loading Roboflow workspace...\n",
      "loading Roboflow project...\n"
     ]
    },
    {
     "name": "stderr",
     "output_type": "stream",
     "text": [
      "Downloading Dataset Version Zip in /home/poloniki/.data/waste to yolov8:: 100%|██████████| 83432/83432 [00:04<00:00, 19959.10it/s]"
     ]
    },
    {
     "name": "stdout",
     "output_type": "stream",
     "text": [
      "\n"
     ]
    },
    {
     "name": "stderr",
     "output_type": "stream",
     "text": [
      "\n",
      "Extracting Dataset Version Zip to /home/poloniki/.data/waste in yolov8:: 100%|██████████| 3818/3818 [00:00<00:00, 20495.76it/s]\n"
     ]
    }
   ],
   "source": [
    "rf = Roboflow(api_key=\"NtHDWWC0JhDMlxNNhpDb\")\n",
    "project = rf.workspace(\"taco-t7kkz\").project(\"taco-dataset-ql1ng\")\n",
    "version = project.version(15)\n",
    "dataset = version.download(\"yolov8\", location=LOCAL_DATA_PATH)"
   ]
  }
 ],
 "metadata": {
  "kernelspec": {
   "display_name": "waste",
   "language": "python",
   "name": "python3"
  },
  "language_info": {
   "codemirror_mode": {
    "name": "ipython",
    "version": 3
   },
   "file_extension": ".py",
   "mimetype": "text/x-python",
   "name": "python",
   "nbconvert_exporter": "python",
   "pygments_lexer": "ipython3",
   "version": "3.10.6"
  }
 },
 "nbformat": 4,
 "nbformat_minor": 2
}
